{
 "cells": [
  {
   "cell_type": "code",
   "execution_count": 1,
   "metadata": {},
   "outputs": [],
   "source": [
    "from nplm import PartialLabelModel\n",
    "import numpy as np\n",
    "import torch\n",
    "import joblib\n",
    "\n",
    "%load_ext autoreload\n",
    "%autoreload 2"
   ]
  },
  {
   "cell_type": "code",
   "execution_count": 2,
   "metadata": {},
   "outputs": [],
   "source": [
    "typ = 'A'\n",
    "split = 0\n",
    "\n",
    "############################\n",
    "# 1. Load Detectors Votes\n",
    "votes = np.load('votes/lad_unseen_votes_{:s}{:d}.npy'.format(typ, split))\n",
    "\n",
    "\n",
    "############################\n",
    "# 2. Load Class-Attribute CFG (Specifying attribute as partial label) as fid2clusters\n",
    "fid2clusters = np.load('data/lad/fid2clusters_{:s}{:d}.npy'.format(typ, split), allow_pickle=True).item()"
   ]
  },
  {
   "cell_type": "code",
   "execution_count": 3,
   "metadata": {},
   "outputs": [
    {
     "name": "stderr",
     "output_type": "stream",
     "text": [
      "epoch   1: 100%|██████████| 1/1 [00:00<00:00, 25.50it/s, Epoch Loss: =46.5]\n",
      "epoch   2: 100%|██████████| 1/1 [00:00<00:00, 24.91it/s, Epoch Loss: =30.3]\n",
      "epoch   3: 100%|██████████| 1/1 [00:00<00:00, 26.47it/s, Epoch Loss: =23.9]\n",
      "epoch   4: 100%|██████████| 1/1 [00:00<00:00, 27.13it/s, Epoch Loss: =21.7]\n",
      "epoch   5: 100%|██████████| 1/1 [00:00<00:00, 28.32it/s, Epoch Loss: =21.1]\n",
      "epoch   6:   0%|          | 0/1 [00:00<?, ?it/s]"
     ]
    },
    {
     "name": "stdout",
     "output_type": "stream",
     "text": [
      "Setup:  0.08187365531921387\n"
     ]
    },
    {
     "name": "stderr",
     "output_type": "stream",
     "text": [
      "epoch   6: 100%|██████████| 1/1 [00:00<00:00, 28.67it/s, Epoch Loss: =20.9]\n",
      "epoch   7: 100%|██████████| 1/1 [00:00<00:00, 27.92it/s, Epoch Loss: =20.8]\n",
      "epoch   8: 100%|██████████| 1/1 [00:00<00:00, 27.91it/s, Epoch Loss: =20.8]\n",
      "epoch   9: 100%|██████████| 1/1 [00:00<00:00, 27.68it/s, Epoch Loss: =20.8]\n",
      "epoch  10: 100%|██████████| 1/1 [00:00<00:00, 28.62it/s, Epoch Loss: =20.7]\n",
      "epoch  11: 100%|██████████| 1/1 [00:00<00:00, 28.13it/s, Epoch Loss: =20.6]\n",
      "epoch  12: 100%|██████████| 1/1 [00:00<00:00, 27.72it/s, Epoch Loss: =20.6]\n",
      "epoch  13: 100%|██████████| 1/1 [00:00<00:00, 27.95it/s, Epoch Loss: =20.5]\n",
      "epoch  14: 100%|██████████| 1/1 [00:00<00:00, 28.30it/s, Epoch Loss: =20.5]\n",
      "epoch  15: 100%|██████████| 1/1 [00:00<00:00, 27.14it/s, Epoch Loss: =20.4]\n",
      "epoch  16: 100%|██████████| 1/1 [00:00<00:00, 28.19it/s, Epoch Loss: =20.3]\n",
      "epoch  17: 100%|██████████| 1/1 [00:00<00:00, 28.58it/s, Epoch Loss: =20.3]\n",
      "epoch  18: 100%|██████████| 1/1 [00:00<00:00, 26.90it/s, Epoch Loss: =20.2]\n",
      "epoch  19: 100%|██████████| 1/1 [00:00<00:00, 26.76it/s, Epoch Loss: =20.1]\n",
      "epoch  20: 100%|██████████| 1/1 [00:00<00:00, 27.42it/s, Epoch Loss: =20.1]\n",
      "epoch  21: 100%|██████████| 1/1 [00:00<00:00, 27.84it/s, Epoch Loss: =20]\n",
      "epoch  22: 100%|██████████| 1/1 [00:00<00:00, 26.93it/s, Epoch Loss: =20]\n",
      "epoch  23: 100%|██████████| 1/1 [00:00<00:00, 27.65it/s, Epoch Loss: =19.9]\n",
      "epoch  24: 100%|██████████| 1/1 [00:00<00:00, 27.67it/s, Epoch Loss: =19.9]\n",
      "epoch  25: 100%|██████████| 1/1 [00:00<00:00, 26.43it/s, Epoch Loss: =19.9]\n",
      "epoch  26: 100%|██████████| 1/1 [00:00<00:00, 27.15it/s, Epoch Loss: =19.9]\n",
      "epoch  27: 100%|██████████| 1/1 [00:00<00:00, 27.66it/s, Epoch Loss: =19.8]\n",
      "epoch  28: 100%|██████████| 1/1 [00:00<00:00, 27.58it/s, Epoch Loss: =19.8]\n",
      "epoch  29: 100%|██████████| 1/1 [00:00<00:00, 27.97it/s, Epoch Loss: =19.7]\n",
      "epoch  30: 100%|██████████| 1/1 [00:00<00:00, 28.83it/s, Epoch Loss: =19.7]\n",
      "epoch  31: 100%|██████████| 1/1 [00:00<00:00, 28.26it/s, Epoch Loss: =19.7]\n",
      "epoch  32: 100%|██████████| 1/1 [00:00<00:00, 29.05it/s, Epoch Loss: =19.7]\n",
      "epoch  33: 100%|██████████| 1/1 [00:00<00:00, 27.84it/s, Epoch Loss: =19.6]\n",
      "epoch  34: 100%|██████████| 1/1 [00:00<00:00, 27.48it/s, Epoch Loss: =19.6]\n",
      "epoch  35: 100%|██████████| 1/1 [00:00<00:00, 27.82it/s, Epoch Loss: =19.6]\n",
      "epoch  36: 100%|██████████| 1/1 [00:00<00:00, 27.37it/s, Epoch Loss: =19.6]\n",
      "epoch  37: 100%|██████████| 1/1 [00:00<00:00, 26.86it/s, Epoch Loss: =19.6]\n",
      "epoch  38: 100%|██████████| 1/1 [00:00<00:00, 27.20it/s, Epoch Loss: =19.6]\n",
      "epoch  39: 100%|██████████| 1/1 [00:00<00:00, 27.75it/s, Epoch Loss: =19.5]\n",
      "epoch  40: 100%|██████████| 1/1 [00:00<00:00, 26.74it/s, Epoch Loss: =19.5]\n",
      "epoch  41: 100%|██████████| 1/1 [00:00<00:00, 26.01it/s, Epoch Loss: =19.5]\n",
      "epoch  42: 100%|██████████| 1/1 [00:00<00:00, 27.63it/s, Epoch Loss: =19.5]\n",
      "epoch  43: 100%|██████████| 1/1 [00:00<00:00, 27.27it/s, Epoch Loss: =19.5]\n",
      "epoch  44: 100%|██████████| 1/1 [00:00<00:00, 27.82it/s, Epoch Loss: =19.5]\n",
      "epoch  45: 100%|██████████| 1/1 [00:00<00:00, 27.81it/s, Epoch Loss: =19.5]\n",
      "epoch  46: 100%|██████████| 1/1 [00:00<00:00, 27.54it/s, Epoch Loss: =19.4]\n",
      "epoch  47: 100%|██████████| 1/1 [00:00<00:00, 26.85it/s, Epoch Loss: =19.4]\n",
      "epoch  48: 100%|██████████| 1/1 [00:00<00:00, 27.39it/s, Epoch Loss: =19.4]\n",
      "epoch  49: 100%|██████████| 1/1 [00:00<00:00, 27.21it/s, Epoch Loss: =19.4]\n",
      "epoch  50: 100%|██████████| 1/1 [00:00<00:00, 26.38it/s, Epoch Loss: =19.4]\n",
      "epoch  51: 100%|██████████| 1/1 [00:00<00:00, 27.65it/s, Epoch Loss: =19.4]\n",
      "epoch  52: 100%|██████████| 1/1 [00:00<00:00, 27.95it/s, Epoch Loss: =19.4]\n",
      "epoch  53: 100%|██████████| 1/1 [00:00<00:00, 26.51it/s, Epoch Loss: =19.4]\n",
      "epoch  54: 100%|██████████| 1/1 [00:00<00:00, 26.42it/s, Epoch Loss: =19.4]\n",
      "epoch  55: 100%|██████████| 1/1 [00:00<00:00, 26.79it/s, Epoch Loss: =19.4]\n",
      "epoch  56: 100%|██████████| 1/1 [00:00<00:00, 26.44it/s, Epoch Loss: =19.4]\n",
      "epoch  57: 100%|██████████| 1/1 [00:00<00:00, 27.90it/s, Epoch Loss: =19.4]\n",
      "epoch  58: 100%|██████████| 1/1 [00:00<00:00, 29.15it/s, Epoch Loss: =19.4]\n",
      "epoch  59: 100%|██████████| 1/1 [00:00<00:00, 27.28it/s, Epoch Loss: =19.4]\n",
      "epoch  60: 100%|██████████| 1/1 [00:00<00:00, 27.94it/s, Epoch Loss: =19.4]\n",
      "epoch  61: 100%|██████████| 1/1 [00:00<00:00, 27.69it/s, Epoch Loss: =19.4]\n",
      "epoch  62: 100%|██████████| 1/1 [00:00<00:00, 27.59it/s, Epoch Loss: =19.4]\n",
      "epoch  63: 100%|██████████| 1/1 [00:00<00:00, 27.19it/s, Epoch Loss: =19.3]\n",
      "epoch  64: 100%|██████████| 1/1 [00:00<00:00, 27.39it/s, Epoch Loss: =19.3]\n",
      "epoch  65: 100%|██████████| 1/1 [00:00<00:00, 27.66it/s, Epoch Loss: =19.3]\n",
      "epoch  66: 100%|██████████| 1/1 [00:00<00:00, 27.62it/s, Epoch Loss: =19.3]\n",
      "epoch  67: 100%|██████████| 1/1 [00:00<00:00, 27.80it/s, Epoch Loss: =19.3]\n",
      "epoch  68: 100%|██████████| 1/1 [00:00<00:00, 27.64it/s, Epoch Loss: =19.3]\n",
      "epoch  69: 100%|██████████| 1/1 [00:00<00:00, 21.15it/s, Epoch Loss: =19.3]\n",
      "epoch  70: 100%|██████████| 1/1 [00:00<00:00, 25.97it/s, Epoch Loss: =19.3]\n",
      "epoch  71: 100%|██████████| 1/1 [00:00<00:00, 26.12it/s, Epoch Loss: =19.3]\n",
      "epoch  72: 100%|██████████| 1/1 [00:00<00:00, 25.42it/s, Epoch Loss: =19.3]\n",
      "epoch  73: 100%|██████████| 1/1 [00:00<00:00, 25.24it/s, Epoch Loss: =19.3]\n",
      "epoch  74: 100%|██████████| 1/1 [00:00<00:00, 26.54it/s, Epoch Loss: =19.3]\n",
      "epoch  75: 100%|██████████| 1/1 [00:00<00:00, 27.28it/s, Epoch Loss: =19.3]\n",
      "epoch  76: 100%|██████████| 1/1 [00:00<00:00, 27.82it/s, Epoch Loss: =19.3]\n",
      "epoch  77: 100%|██████████| 1/1 [00:00<00:00, 28.17it/s, Epoch Loss: =19.3]\n",
      "epoch  78: 100%|██████████| 1/1 [00:00<00:00, 26.86it/s, Epoch Loss: =19.3]\n",
      "epoch  79: 100%|██████████| 1/1 [00:00<00:00, 28.28it/s, Epoch Loss: =19.3]\n",
      "epoch  80: 100%|██████████| 1/1 [00:00<00:00, 28.22it/s, Epoch Loss: =19.3]\n",
      "epoch  81: 100%|██████████| 1/1 [00:00<00:00, 27.93it/s, Epoch Loss: =19.3]\n",
      "epoch  82: 100%|██████████| 1/1 [00:00<00:00, 27.40it/s, Epoch Loss: =19.3]\n",
      "epoch  83: 100%|██████████| 1/1 [00:00<00:00, 26.70it/s, Epoch Loss: =19.3]\n",
      "epoch  84: 100%|██████████| 1/1 [00:00<00:00, 27.55it/s, Epoch Loss: =19.3]\n",
      "epoch  85: 100%|██████████| 1/1 [00:00<00:00, 26.73it/s, Epoch Loss: =19.3]\n",
      "epoch  86: 100%|██████████| 1/1 [00:00<00:00, 27.89it/s, Epoch Loss: =19.3]\n",
      "epoch  87: 100%|██████████| 1/1 [00:00<00:00, 27.54it/s, Epoch Loss: =19.3]\n",
      "epoch  88: 100%|██████████| 1/1 [00:00<00:00, 28.06it/s, Epoch Loss: =19.3]\n",
      "epoch  89: 100%|██████████| 1/1 [00:00<00:00, 27.27it/s, Epoch Loss: =19.3]\n",
      "epoch  90: 100%|██████████| 1/1 [00:00<00:00, 27.23it/s, Epoch Loss: =19.3]\n",
      "epoch  91: 100%|██████████| 1/1 [00:00<00:00, 27.13it/s, Epoch Loss: =19.3]\n",
      "epoch  92: 100%|██████████| 1/1 [00:00<00:00, 26.57it/s, Epoch Loss: =19.3]\n",
      "epoch  93: 100%|██████████| 1/1 [00:00<00:00, 25.53it/s, Epoch Loss: =19.3]\n",
      "epoch  94: 100%|██████████| 1/1 [00:00<00:00, 27.79it/s, Epoch Loss: =19.3]\n",
      "epoch  95: 100%|██████████| 1/1 [00:00<00:00, 27.13it/s, Epoch Loss: =19.3]\n",
      "epoch  96: 100%|██████████| 1/1 [00:00<00:00, 26.11it/s, Epoch Loss: =19.3]\n",
      "epoch  97: 100%|██████████| 1/1 [00:00<00:00, 27.36it/s, Epoch Loss: =19.3]\n",
      "epoch  98: 100%|██████████| 1/1 [00:00<00:00, 27.06it/s, Epoch Loss: =19.3]\n",
      "epoch  99: 100%|██████████| 1/1 [00:00<00:00, 26.86it/s, Epoch Loss: =19.3]\n",
      "epoch  100: 100%|██████████| 1/1 [00:00<00:00, 27.83it/s, Epoch Loss: =19.3]\n",
      "epoch  101: 100%|██████████| 1/1 [00:00<00:00, 28.01it/s, Epoch Loss: =19.3]\n",
      "epoch  102: 100%|██████████| 1/1 [00:00<00:00, 27.50it/s, Epoch Loss: =19.3]\n",
      "epoch  103: 100%|██████████| 1/1 [00:00<00:00, 27.98it/s, Epoch Loss: =19.3]\n",
      "epoch  104: 100%|██████████| 1/1 [00:00<00:00, 28.06it/s, Epoch Loss: =19.3]\n",
      "epoch  105: 100%|██████████| 1/1 [00:00<00:00, 28.20it/s, Epoch Loss: =19.3]\n",
      "epoch  106: 100%|██████████| 1/1 [00:00<00:00, 28.15it/s, Epoch Loss: =19.3]\n",
      "epoch  107: 100%|██████████| 1/1 [00:00<00:00, 28.20it/s, Epoch Loss: =19.3]\n",
      "epoch  108: 100%|██████████| 1/1 [00:00<00:00, 28.34it/s, Epoch Loss: =19.3]\n",
      "epoch  109: 100%|██████████| 1/1 [00:00<00:00, 28.48it/s, Epoch Loss: =19.3]\n",
      "epoch  110: 100%|██████████| 1/1 [00:00<00:00, 27.90it/s, Epoch Loss: =19.3]\n",
      "epoch  111: 100%|██████████| 1/1 [00:00<00:00, 28.41it/s, Epoch Loss: =19.3]\n",
      "epoch  112: 100%|██████████| 1/1 [00:00<00:00, 27.71it/s, Epoch Loss: =19.3]\n"
     ]
    },
    {
     "name": "stderr",
     "output_type": "stream",
     "text": [
      "epoch  113: 100%|██████████| 1/1 [00:00<00:00, 27.70it/s, Epoch Loss: =19.3]\n",
      "epoch  114: 100%|██████████| 1/1 [00:00<00:00, 27.67it/s, Epoch Loss: =19.3]\n",
      "epoch  115: 100%|██████████| 1/1 [00:00<00:00, 27.50it/s, Epoch Loss: =19.3]\n",
      "epoch  116: 100%|██████████| 1/1 [00:00<00:00, 26.28it/s, Epoch Loss: =19.3]\n",
      "epoch  117: 100%|██████████| 1/1 [00:00<00:00, 26.03it/s, Epoch Loss: =19.3]\n",
      "epoch  118: 100%|██████████| 1/1 [00:00<00:00, 27.02it/s, Epoch Loss: =19.3]\n",
      "epoch  119: 100%|██████████| 1/1 [00:00<00:00, 20.71it/s, Epoch Loss: =19.3]\n",
      "epoch  120: 100%|██████████| 1/1 [00:00<00:00, 27.74it/s, Epoch Loss: =19.3]\n"
     ]
    }
   ],
   "source": [
    "lm_cfg = np.load('cfgs/LAD/lad_cfgs.npy', allow_pickle=True).item()['{:s}{:d}'.format(typ, split)]\n",
    "\n",
    "device = 'cuda:0' if torch.cuda.is_available() else 'cpu'\n",
    "labelmodel = PartialLabelModel(num_classes=10, # 6 for hair\n",
    "                            fid2clusters=fid2clusters,\n",
    "                            opt_cfg=lm_cfg,\n",
    "                            device=device, verbose=True)\n",
    "\n",
    "labelmodel.optimize(votes)"
   ]
  },
  {
   "cell_type": "code",
   "execution_count": 4,
   "metadata": {},
   "outputs": [
    {
     "name": "stdout",
     "output_type": "stream",
     "text": [
      "Setup:  0.06451964378356934\n",
      "Parallel Estimation:  0.009848356246948242\n"
     ]
    }
   ],
   "source": [
    "label_estim = labelmodel.weak_label(votes)"
   ]
  },
  {
   "cell_type": "code",
   "execution_count": 8,
   "metadata": {},
   "outputs": [],
   "source": [
    "import pickle\n",
    "\n",
    "def ladpipeline(softlabels, split, typ):\n",
    "\n",
    "        data_pac = pickle.load(\n",
    "            open('data/LAD/splits/split_{:d}/{:s}/r50_features/unseen_all.pkl'.format(split, typ),\n",
    "                 'rb'))\n",
    "        feat_dim = 2048\n",
    "        features, labels = zip(*data_pac)\n",
    "\n",
    "        meta_split_info = np.load('data/lad/meta_split_info_v2.npy', allow_pickle=True).item()\n",
    "        unseen_classes = meta_split_info['splits'][split][typ]['unseen']\n",
    "\n",
    "        class_name_map = {old_cid: new_cid for new_cid, old_cid in enumerate(unseen_classes)}\n",
    "\n",
    "        translator = {old:new for new, old in enumerate(np.unique(labels))}\n",
    "        translated_labels = [class_name_map[int(old)] for old in labels]\n",
    "        soft_labels = softlabels['{:s}-{:d}'.format(typ, split)]\n",
    "        train_data = list(zip(features, soft_labels))\n",
    "        test_data = list(zip(features, translated_labels))\n",
    "\n",
    "        train = DataLoader(train_data, shuffle=True, batch_size=64)\n",
    "        valtest = DataLoader(test_data, shuffle=True, batch_size=64)\n",
    "\n",
    "        model_const = ResNetFeaturesLC\n",
    "        task = EndTask('LAD-{:s}-{:d}'.format(typ, split), len(np.unique(labels)), model_const,\n",
    "                       feat_dim=feat_dim)\n",
    "        task.train(train, valtest, valtest, save_model=False, double=False)"
   ]
  },
  {
   "cell_type": "code",
   "execution_count": null,
   "metadata": {},
   "outputs": [],
   "source": [
    "ladpipeline(label_estim, split, typ)"
   ]
  }
 ],
 "metadata": {
  "kernelspec": {
   "display_name": "Python 3",
   "language": "python",
   "name": "python3"
  },
  "language_info": {
   "codemirror_mode": {
    "name": "ipython",
    "version": 3
   },
   "file_extension": ".py",
   "mimetype": "text/x-python",
   "name": "python",
   "nbconvert_exporter": "python",
   "pygments_lexer": "ipython3",
   "version": "3.8.3"
  }
 },
 "nbformat": 4,
 "nbformat_minor": 4
}