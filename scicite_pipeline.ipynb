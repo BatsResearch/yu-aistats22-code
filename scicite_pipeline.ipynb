{
 "cells": [
  {
   "cell_type": "code",
   "execution_count": 1,
   "metadata": {},
   "outputs": [],
   "source": [
    "import numpy as np\n",
    "import time\n",
    "import json\n",
    "from copy import deepcopy as dc\n",
    "import torch\n",
    "\n",
    "import joblib\n",
    "import re\n",
    "\n",
    "%load_ext autoreload\n",
    "%autoreload 2\n",
    "\n",
    "import matplotlib\n",
    "import matplotlib.pyplot as plt\n",
    "%matplotlib inline\n",
    "\n",
    "from data.utils import votes_filter, plot_overlap_conflict\n",
    "from data.scicite.utils import load_jsonl, extract_item, get_inst, textsplit"
   ]
  },
  {
   "cell_type": "code",
   "execution_count": 2,
   "metadata": {},
   "outputs": [],
   "source": [
    "scicite_loc = 'data/scicite/{:s}.jsonl'\n",
    "\n",
    "train = load_jsonl(dc(scicite_loc).format('train'))\n",
    "dev = load_jsonl(dc(scicite_loc).format('dev'))\n",
    "test = load_jsonl(dc(scicite_loc).format('test'))"
   ]
  },
  {
   "cell_type": "code",
   "execution_count": 4,
   "metadata": {},
   "outputs": [],
   "source": [
    "from nplm.plf import WeakRule, BinaryRERules, regex_decision\n",
    "\n",
    "train_instances, _ = get_inst(train, keep_instance=True)\n",
    "dev_instances, dev_labels = get_inst(dev, keep_instance=True)"
   ]
  },
  {
   "cell_type": "code",
   "execution_count": 5,
   "metadata": {},
   "outputs": [
    {
     "name": "stdout",
     "output_type": "stream",
     "text": [
      "0.7843137254901961 0.7843137254901961 0.08733624454148471\n",
      "[0.0, 1.0, 1.0]\n",
      "0.8837535014005602 0.8760244445497181 0.6888646288209607\n",
      "[0.9088607594936708, 0.7942583732057417, 0.9636363636363636]\n",
      "0.8973799126637555 0.7853329989610576 0.8973799126637555\n",
      "[0.9405204460966543, 0.9803921568627451, 0.5365853658536586]\n",
      "0.8918918918918919 0.8918918918918919 0.036026200873362446\n",
      "[1.0, 1.0, 0.0]\n",
      "1.0 1.0 0.001091703056768559\n",
      "[1.0, nan, nan]\n",
      "0.8002183406113537 0.757343631299063 0.8002183406113537\n",
      "[0.895910780669145, 0.5294117647058824, 0.943089430894309]\n",
      "0.8378378378378378 0.8378378378378378 0.06768558951965066\n",
      "[1.0, 1.0, 0.0]\n",
      "0.7297297297297297 0.7297297297297297 0.05895196506550218\n",
      "[0.0, 0.0, 1.0]\n",
      "0.7857142857142857 0.7857142857142857 0.012008733624454149\n",
      "[0.0, 0.0, 1.0]\n",
      "0.7142857142857143 0.7142857142857143 0.027292576419213975\n",
      "[0.0, 1.0, 0.0]\n"
     ]
    }
   ],
   "source": [
    "\n",
    "def df1(instance):\n",
    "    p, m, s = textsplit(instance, p=False)\n",
    "    new_sen = re.sub(r'\\([^)]*\\)', '', p+m+s).lower()\n",
    "    if ' we ' in new_sen or ' our ' in new_sen or ' by us ' in new_sen:\n",
    "        return 1\n",
    "    return -1\n",
    "\n",
    "\n",
    "firstperson_rule = WeakRule(exec_module=df1, label_maps={0:[0], 1:[1,2]})\n",
    "\n",
    "v1 = firstperson_rule.execute(dev_instances)\n",
    "acc, p, r, cwacc = firstperson_rule.eval(dev_labels, class_wise_acc=True)\n",
    "print(acc, p, r)\n",
    "print(cwacc)\n",
    "\n",
    "re_patt_results = 'result|discussion|conclusion|observation'\n",
    "re_patt_method = 'method|approach|experiment|evaluation'\n",
    "re_patt_intro = 'introduction|background'\n",
    "\n",
    "def sectionTitleRule(instance):\n",
    "    t = str(instance['sectionName']).lower()\n",
    "    if regex_decision(re_patt_method, t):\n",
    "        return 1\n",
    "    elif regex_decision(re_patt_intro, t):\n",
    "        return 0\n",
    "    elif regex_decision(re_patt_results, t):\n",
    "        return 2\n",
    "    return -1\n",
    "\n",
    "sectionTitle_rule = WeakRule(exec_module=sectionTitleRule, label_maps={0:[0], 1:[1], 2:[0, 2]})\n",
    "v2 = sectionTitle_rule.execute(dev_instances)\n",
    "acc, p, r, cwacc = sectionTitle_rule.eval(dev_labels, class_wise_acc=True)\n",
    "\n",
    "print(acc, p, r)\n",
    "print(cwacc)\n",
    "\n",
    "def df2(instance):\n",
    "    p, m, s = textsplit(instance, p=False)\n",
    "    new_sen = re.sub(r'\\([^)]*\\)', '', p+s).lower()\n",
    "    if ' result ' in new_sen or ' results ' in new_sen:\n",
    "        return 1\n",
    "    return 0\n",
    "\n",
    "result_rule = WeakRule(exec_module=df2, label_maps={0:[0,1], 1:[2]})\n",
    "v3 = result_rule.execute(dev_instances)\n",
    "acc, p, r, cwacc = result_rule.eval(dev_labels, class_wise_acc=True)\n",
    "print(acc, p, r)\n",
    "print(cwacc)\n",
    "\n",
    "def length_citation(instance):\n",
    "    p, m, s = textsplit(instance, p=False)\n",
    "    if len(m.split(';')) > 2:\n",
    "        return 1\n",
    "    return -1\n",
    "\n",
    "simple_re_rule_0 = WeakRule(exec_module=length_citation, label_maps={0:[2], 1:[0,1]})\n",
    "v4 = simple_re_rule_0.execute(dev_instances)\n",
    "acc, p, r, cwacc = simple_re_rule_0.eval(dev_labels, class_wise_acc=True)\n",
    "print(acc, p, r)\n",
    "print(cwacc)\n",
    "\n",
    "\n",
    "\n",
    "def df3(instance):\n",
    "    def result_related(inst):\n",
    "        patterns = ['equivocal result', 'similar result', 'same result', 'different result', 'expected result']\n",
    "        for pattern in patterns:\n",
    "            if pattern in inst:\n",
    "                return 1\n",
    "        return -1\n",
    "    p, m, s = textsplit(instance, p=False)\n",
    "    new_sen = re.sub(r'\\([^)]*\\)', '', p+s).lower()\n",
    "    return result_related(new_sen)\n",
    "\n",
    "\n",
    "res_rule = WeakRule(exec_module=df3, label_maps={0:[1], 1:[0,2]})\n",
    "v7 = res_rule.execute(dev_instances)\n",
    "acc, p, r, cwacc = res_rule.eval(dev_labels, class_wise_acc=True, average='macro')\n",
    "print(acc, p, r)\n",
    "print(cwacc)\n",
    "\n",
    "re_patt = 'using|measuring|used|the method|data|state-of-art|calculated|applied|according to|approach'\n",
    "\n",
    "simple_re_rule_1 = BinaryRERules(re_pattern=re_patt, preproc=lambda inst:inst['string'], label_maps={0:[0,2], 1:[1]}, unipolar=False)\n",
    "v5 = simple_re_rule_1.execute(dev_instances)\n",
    "\n",
    "acc, p, r, cwacc = simple_re_rule_1.eval(dev_labels, class_wise_acc=True)\n",
    "print(acc, p, r)\n",
    "print(cwacc)\n",
    "\n",
    "\n",
    "\n",
    "def df5(instance):    \n",
    "    def match(inst):\n",
    "        patterns = [\n",
    "            'has been', 'in order to', 'considered to', \n",
    "            'initially', 'even if','have shown', 'has shown'\n",
    "        ]\n",
    "        for pattern in patterns:\n",
    "            if pattern in inst:\n",
    "                return 1\n",
    "        return -1\n",
    "\n",
    "    p, m, s = textsplit(instance, p=False)\n",
    "    new_sen = re.sub(r'\\([^)]*\\)', '', p+s).lower()\n",
    "    return match(new_sen)\n",
    "\n",
    "\n",
    "add_rule = WeakRule(exec_module=df5, label_maps={0:[2], 1:[0,1]})\n",
    "v9 = add_rule.execute(dev_instances)\n",
    "acc, p, r, cwacc = add_rule.eval(dev_labels, class_wise_acc=True, average='macro')\n",
    "print(acc, p, r)\n",
    "print(cwacc)\n",
    "\n",
    "\n",
    "\n",
    "def df4(instance):\n",
    "    \n",
    "    def comparison(inst):\n",
    "        patterns = [\n",
    "            'in line with', 'discordant with', 'consistent with', 'keeping with', 'accordance with', 'agreement with', 'similar with',\n",
    "            'compared to', 'contrast to', 'contrary to', 'comparable to', 'contradict to', 'affirmed by', 'supported by', 'in support of', \n",
    "        ]\n",
    "        for pattern in patterns:\n",
    "            if pattern in inst:\n",
    "                return 1\n",
    "        return -1\n",
    "    p, m, s = textsplit(instance, p=False)\n",
    "    new_sen = re.sub(r'\\([^)]*\\)', '', p+s).lower()\n",
    "    return comparison(new_sen)\n",
    "\n",
    "\n",
    "resultp_rule = WeakRule(exec_module=df4, label_maps={0:[0,1], 1:[2]})\n",
    "v8 = resultp_rule.execute(dev_instances)\n",
    "acc, p, r, cwacc = resultp_rule.eval(dev_labels, class_wise_acc=True, average='macro')\n",
    "print(acc, p, r)\n",
    "print(cwacc)\n",
    "\n",
    "\n",
    "\n",
    "re_patt = 'our result|this is in keeping|with previous|this study differ|this is in agreement with|this conclusion|this finding|similar result.*(found|observed|obtained)'\n",
    "\n",
    "re_tb = BinaryRERules(re_pattern=re_patt, preproc=lambda inst:inst['string'], label_maps={0:[0,1], 1:[2]}, unipolar=True)\n",
    "v5 = re_tb.execute(dev_instances)\n",
    "\n",
    "acc, p, r, cwacc = re_tb.eval(dev_labels, class_wise_acc=True)\n",
    "print(acc, p, r)\n",
    "print(cwacc)\n",
    "\n",
    "\n",
    "re_patt = 'we (employ|utilize)|iap-as|metaanalyses|temporal transition|was estimated|quantitative (analyses|analysis)|this procedure|implementation|sequence analysis|regularization method|were analysed|we adopt|bayesian|were sampled|quantitative method|fracture|simulating|this design|algorithm|developed|model performance|(was|were) evaluated|as control|scheme|control management|(was|were|is|are) measured|the rats|the pigs|we appl'\n",
    "\n",
    "re_tm = BinaryRERules(re_pattern=re_patt, preproc=lambda inst:inst['string'], label_maps={0:[0,2], 1:[1]}, unipolar=True)\n",
    "v5 = re_tm.execute(dev_instances)\n",
    "\n",
    "acc, p, r, cwacc = re_tm.eval(dev_labels, class_wise_acc=True)\n",
    "print(acc, p, r)\n",
    "print(cwacc)"
   ]
  },
  {
   "cell_type": "code",
   "execution_count": 6,
   "metadata": {},
   "outputs": [
    {
     "name": "stdout",
     "output_type": "stream",
     "text": [
      "{0: [0], 1: [1, 2]}\n",
      "{0: [0], 1: [1], 2: [0, 2]}\n",
      "{0: [0, 1], 1: [2]}\n",
      "{0: [2], 1: [0, 1]}\n",
      "{0: [1], 1: [0, 2]}\n",
      "{0: [0, 2], 1: [1]}\n",
      "{0: [2], 1: [0, 1]}\n",
      "{0: [0, 1], 1: [2]}\n",
      "{0: [0, 1], 1: [2]}\n",
      "{0: [0, 2], 1: [1]}\n"
     ]
    },
    {
     "data": {
      "image/png": "[encoded data removed]",
      "text/plain": [
       "<Figure size 432x288 with 2 Axes>"
      ]
     },
     "metadata": {
      "needs_background": "light"
     },
     "output_type": "display_data"
    },
    {
     "data": {
      "image/png": "[encoded data removed]",
      "text/plain": [
       "<Figure size 432x288 with 2 Axes>"
      ]
     },
     "metadata": {
      "needs_background": "light"
     },
     "output_type": "display_data"
    }
   ],
   "source": [
    "from nplm.plf import executor, evaluator\n",
    "\n",
    "train_instances, _ = get_inst(train, keep_instance=True)\n",
    "\n",
    "plfs = [firstperson_rule, sectionTitle_rule, result_rule, \n",
    "              simple_re_rule_0,  res_rule, simple_re_rule_1, \n",
    "              add_rule, resultp_rule ,re_tb, \n",
    "              re_tm]\n",
    "votes, fid2clusters = executor(plfs, train_instances, one_indexed=False)\n",
    "\n",
    "votes, _, train_idx = votes_filter(votes, return_idx=True)\n",
    "plot_overlap_conflict(votes, fid2clusters)"
   ]
  },
  {
   "cell_type": "code",
   "execution_count": 7,
   "metadata": {},
   "outputs": [
    {
     "name": "stderr",
     "output_type": "stream",
     "text": [
      "\r",
      "epoch   1:   0%|          | 0/2 [00:00<?, ?it/s]"
     ]
    },
    {
     "name": "stdout",
     "output_type": "stream",
     "text": [
      "Setup:  0.1452467441558838\n"
     ]
    },
    {
     "name": "stderr",
     "output_type": "stream",
     "text": [
      "epoch   1: 100%|██████████| 2/2 [00:00<00:00,  9.89it/s, Epoch Loss: =9.2] \n",
      "epoch   2: 100%|██████████| 2/2 [00:00<00:00, 10.29it/s, Epoch Loss: =9.08]\n",
      "epoch   3: 100%|██████████| 2/2 [00:00<00:00, 10.45it/s, Epoch Loss: =8.96]\n",
      "epoch   4: 100%|██████████| 2/2 [00:00<00:00, 10.53it/s, Epoch Loss: =8.85]\n",
      "epoch   5: 100%|██████████| 2/2 [00:00<00:00, 10.41it/s, Epoch Loss: =8.73]\n"
     ]
    },
    {
     "name": "stdout",
     "output_type": "stream",
     "text": [
      "Setup:  1.0310964584350586\n",
      "Parallel Estimation:  0.008614778518676758\n"
     ]
    }
   ],
   "source": [
    "from nplm import PartialLabelModel\n",
    "\n",
    "lm_cfg={'lr': 0.01,\n",
    " 'epoch': 5,\n",
    " 'seed': 0,\n",
    " 'batch_size': 8192,\n",
    " 'momentum': 0.9,\n",
    " 'step_schedule': 'p',\n",
    " 'step_multiplier': 0.1}\n",
    "\n",
    "device = 'cuda:0' if torch.cuda.is_available() else 'cpu'\n",
    "labelmodel = PartialLabelModel(num_classes=3,\n",
    "                        fid2clusters=fid2clusters,\n",
    "                        opt_cfg=lm_cfg,\n",
    "                        device=device, verbose=True)\n",
    "\n",
    "labelmodel.optimize(votes)\n",
    "label_estim = labelmodel.weak_label(votes)"
   ]
  },
  {
   "cell_type": "code",
   "execution_count": 8,
   "metadata": {},
   "outputs": [],
   "source": [
    "np.save('scicite_soft_labels', {'sl': label_estim, 'idx': train_idx})"
   ]
  },
  {
   "cell_type": "code",
   "execution_count": 9,
   "metadata": {},
   "outputs": [
    {
     "name": "stdout",
     "output_type": "stream",
     "text": [
      "{0: [0], 1: [1, 2]}\n",
      "{0: [0], 1: [1], 2: [0, 2]}\n",
      "{0: [0, 1], 1: [2]}\n",
      "{0: [2], 1: [0, 1]}\n",
      "{0: [1], 1: [0, 2]}\n",
      "{0: [0, 2], 1: [1]}\n",
      "{0: [2], 1: [0, 1]}\n",
      "{0: [0, 1], 1: [2]}\n",
      "{0: [0, 1], 1: [2]}\n",
      "{0: [0, 2], 1: [1]}\n",
      "Name\tAcc\tP\tR\n",
      "Rule 0 \t0.8304\t0.8304\t0.0999\n",
      "Rule 1 \t0.9326\t0.9348\t0.8259\n",
      "Rule 2 \t0.8651\t0.7221\t0.8651\n",
      "Rule 3 \t0.8140\t0.8140\t0.0188\n",
      "Rule 4 \t1.0000\t1.0000\t0.0113\n",
      "Rule 5 \t0.7684\t0.7418\t0.7684\n",
      "Rule 6 \t0.9139\t0.9139\t0.0742\n",
      "Rule 7 \t0.7460\t0.7460\t0.0505\n",
      "Rule 8 \t0.9245\t0.9245\t0.0263\n",
      "Rule 9 \t0.7143\t0.7143\t0.0322\n",
      "Setup:  0.264676570892334\n",
      "Parallel Estimation:  0.010888814926147461\n",
      "(0.7152068780225685, 0.6912292100997061, 0.7156869632478277, 0.6940463570460244)\n",
      "[0.71520688 0.9586244 ]\n"
     ]
    }
   ],
   "source": [
    "from eval import gen_stats, topk_results\n",
    "\n",
    "data_instance_test, data_label_test = get_inst(test, keep_instance=True)\n",
    "\n",
    "votes_test, _ = executor(plfs, data_instance_test, one_indexed=False)\n",
    "accs, ps, rs = evaluator(plfs, data_label_test, pprint=True)\n",
    "\n",
    "wlabels_test = labelmodel.weak_label(votes_test)\n",
    "\n",
    "test_label_test = [elem+1 for elem in data_label_test]\n",
    "\n",
    "_, stats = gen_stats(wlabels_test, test_label_test)\n",
    "print(stats)\n",
    "print(topk_results(wlabels_test, test_label_test, [1,2]))"
   ]
  }
 ],
 "metadata": {
  "kernelspec": {
   "display_name": "Python 3",
   "language": "python",
   "name": "python3"
  },
  "language_info": {
   "codemirror_mode": {
    "name": "ipython",
    "version": 3
   },
   "file_extension": ".py",
   "mimetype": "text/x-python",
   "name": "python",
   "nbconvert_exporter": "python",
   "pygments_lexer": "ipython3",
   "version": "3.8.3"
  }
 },
 "nbformat": 4,
 "nbformat_minor": 4
}