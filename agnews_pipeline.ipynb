{
 "cells": [
  {
   "cell_type": "code",
   "execution_count": 1,
   "metadata": {},
   "outputs": [],
   "source": [
    "import numpy as np\n",
    "import time\n",
    "import json\n",
    "from copy import deepcopy as dc\n",
    "import torch\n",
    "\n",
    "import joblib\n",
    "import re\n",
    "\n",
    "%load_ext autoreload\n",
    "%autoreload 2\n",
    "\n",
    "import matplotlib\n",
    "import matplotlib.pyplot as plt\n",
    "%matplotlib inline\n",
    "\n",
    "from data.utils import votes_filter, plot_overlap_conflict\n",
    "from data.agnews.utils import load_data, get_inst"
   ]
  },
  {
   "cell_type": "code",
   "execution_count": 2,
   "metadata": {},
   "outputs": [],
   "source": [
    "label_idx = [0,1,2,3]\n",
    "\n",
    "\n",
    "train = load_data('train')\n",
    "dev = load_data('dev')\n",
    "test = load_data('test')"
   ]
  },
  {
   "cell_type": "code",
   "execution_count": 3,
   "metadata": {},
   "outputs": [],
   "source": [
    "from nplm.plf import WeakRule, BinaryRERules, regex_decision\n",
    "\n",
    "train_instances, _ = get_inst(train)\n",
    "dev_instances, dev_labels = get_inst(dev)"
   ]
  },
  {
   "cell_type": "code",
   "execution_count": 4,
   "metadata": {},
   "outputs": [
    {
     "name": "stdout",
     "output_type": "stream",
     "text": [
      "0.7142857142857143 0.7142857142857143 0.03\n",
      "[0.0, 1.0, 0.0, 0.0]\n",
      "0.8333333333333334 0.8333333333333334 0.01\n",
      "[1.0, nan, nan, 0.0]\n",
      "0.8888888888888888 0.8888888888888888 0.016\n",
      "[0.0, 1.0, nan, nan]\n",
      "0.9230769230769231 0.9230769230769231 0.024\n",
      "[nan, nan, 1.0, 0.0]\n",
      "0.9523809523809523 0.9523809523809523 0.04\n",
      "[nan, nan, 0.0, 1.0]\n",
      "1.0 1.0 0.044\n",
      "[1.0, 1.0, nan, nan]\n",
      "1.0 1.0 0.014\n",
      "[nan, nan, 1.0, 1.0]\n",
      "0.9642857142857143 0.9642857142857143 0.054\n",
      "[1.0, nan, 1.0, 0.0]\n",
      "1.0 1.0 0.03\n",
      "[1.0, nan, nan, 1.0]\n"
     ]
    }
   ],
   "source": [
    "def df1(instance):\n",
    "    entity_doc = instance['sen_ner']\n",
    "    if 'EVENT' in  entity_doc and 'GPE' in entity_doc:\n",
    "        return 1\n",
    "    return -1\n",
    "\n",
    "gpe_event_title = WeakRule(name='gpe+event_title', exec_module=df1, label_maps={0:[0,2,3], 1:[1]})\n",
    "\n",
    "\n",
    "v1 = gpe_event_title.execute(dev_instances)\n",
    "acc, p, r, cwacc = gpe_event_title.eval(dev_labels, class_wise_acc=True)\n",
    "print(acc, p, r)\n",
    "print(cwacc)\n",
    "\n",
    "\n",
    "def df2(instance):\n",
    "    entity_doc = instance['title_ner']\n",
    "    if 'LOC' in entity_doc:\n",
    "        return 1\n",
    "    return -1\n",
    "\n",
    "loc_title_rule = WeakRule(name='loc_title', exec_module=df2, label_maps={0:[1,2,3], 1:[0]})\n",
    "\n",
    "v1 = loc_title_rule.execute(dev_instances)\n",
    "acc, p, r, cwacc = loc_title_rule.eval(dev_labels, class_wise_acc=True)\n",
    "print(acc, p, r)\n",
    "print(cwacc)\n",
    "\n",
    "\n",
    "\n",
    "sports_names = 'kelvim escobar|red sox|formula one|grand prix|svetlana kuznetsova|billy wagner| kobe | beckham|johnny damon|robin ventura|olivier panis'\n",
    "\n",
    "sp0 = BinaryRERules(name='sports_names',re_pattern=sports_names, \n",
    "                                 preproc=lambda inst:inst['sen_lemma'].lower(), \n",
    "                                 label_maps={0:[0,2,3], 1:[1]}, unipolar=True)\n",
    "v5 = sp0.execute(dev_instances)\n",
    "\n",
    "acc, p, r, cwacc = sp0.eval(dev_labels, class_wise_acc=True)\n",
    "print(acc, p, r)\n",
    "print(cwacc)\n",
    "\n",
    "\n",
    "def bexclusive_lemmas(instance):\n",
    "\n",
    "    business_keywords = {'profit', 'bankrupt', 'yen', 'financial'}\n",
    "    \n",
    "    doc = instance['sen_lemma'].lower().split()\n",
    "    \n",
    "    for word in doc:\n",
    "        for keyword in business_keywords:\n",
    "            if word.startswith(keyword):\n",
    "                return 1\n",
    "    return -1\n",
    "\n",
    "\n",
    "bexclusive_lemmas_rule = WeakRule(name='bus_lemma', exec_module=bexclusive_lemmas, label_maps={0:[0,1,3], 1:[2]})\n",
    "v1 = bexclusive_lemmas_rule.execute(dev_instances)\n",
    "acc, p, r, cwacc = bexclusive_lemmas_rule.eval(dev_labels, class_wise_acc=True)\n",
    "print(acc, p, r)\n",
    "print(cwacc)\n",
    "\n",
    "\n",
    "tech = 'space.com|space station|network authentication|(python|java|matlab|c) developer|application|virus|browser hijack|search engine|internet-based|windows update|smart phone|source code|mangement software|software.*develop|internet connection|interactive gam|game console|transfer datum|internet security|g network|internet company|storage capacity|music player|microsystem|comsumer electronic|operat.*system|wireness network|motherboard|spacecraft|malicious program|video game'\n",
    "\n",
    "techr = BinaryRERules(name='tech_terms',re_pattern=tech, \n",
    "                                 preproc=lambda inst:inst['sen_lemma'].lower(), \n",
    "                                 label_maps={0:[0,1,2], 1:[3]}, unipolar=True)\n",
    "v5 = techr.execute(dev_instances)\n",
    "\n",
    "acc, p, r, cwacc = techr.eval(dev_labels, class_wise_acc=True)\n",
    "print(acc, p, r)\n",
    "print(cwacc)\n",
    "\n",
    "\n",
    "def exclusive_lemmas(instance):\n",
    "    \n",
    "    \n",
    "    world_pol_keywords = {'mideast', 'iraq', 'baghdad', 'pakistan', 'afghan',\n",
    "                          'kurd', 'arab' 'egypt', 'iran', 'turkey', 'syria', 'bahrain',\n",
    "                          'israel', 'jordan', 'kuwait', 'lebanon', 'oman', 'palestine',\n",
    "                          'qatar', 'saudi', 'uae', 'yemen' ,'chechnya'}\n",
    "    \n",
    "    \n",
    "    world_pol_keywords |= {'al-qaeda', 'taliban'}\n",
    "    world_pol_keywords |= {'hostage', 'abduct', 'hijack'}\n",
    "    world_pol_keywords |= {'invasion', ' coup ', 'curfew', 'army', 'troop', 'peace', 'militant', 'missile'}\n",
    "    world_pol_keywords |= {'murder', 'death'}\n",
    "#     world_pol_keywords |= {'typhoon'}\n",
    "    \n",
    "    sports_keywords = {'baseball', 'football', 'soccer', 'hockey', 'basketball', 'tennis', 'golf'}\n",
    "    sports_keywords |= {'stadium', 'arena'}\n",
    "    sports_keywords |= {'season', 'playoff', 'tournament'}\n",
    "    sports_keywords |= {'mlb', 'nfl', 'nba', 'mls', 'nhl', 'ncaa', 'league', 'racing'}\n",
    "    sports_keywords |= {'premiership'}\n",
    "    sports_keywords |= {'quarterback', 'centerback', 'fullback', 'pitcher'}\n",
    "    \n",
    "    business_keywords = {'profit', 'bankrupt', 'financial'}\n",
    "    \n",
    "    bt_keywords = {'robot', 'robotic'}\n",
    "    bt_keywords |= {'web', 'internet'}\n",
    "    bt_keywords |= {'linux'}\n",
    "    bt_keywords |= {'stem-cell', 'biotechnology'}\n",
    "    bt_keywords |= {'xbox', 'playstation'}\n",
    "    bt_keywords |= {'microsoft'}\n",
    "    bt_keywords |= {'space', 'nasa'}\n",
    "    bt_keywords |= {'adobe', 'ipod', 'apple', 'xerox', 'ibm'}\n",
    "    \n",
    "    \n",
    "    doc = instance['sen_lemma'].lower().split()\n",
    "    \n",
    "    for word in doc:\n",
    "        for keyword in bt_keywords:\n",
    "            if word.startswith(keyword):\n",
    "                return 3\n",
    "            \n",
    "    for word in doc:\n",
    "        for keyword in world_pol_keywords:\n",
    "            if word.startswith(keyword):\n",
    "                return 0\n",
    "\n",
    "    for word in doc:\n",
    "        for keyword in sports_keywords:\n",
    "            if word.startswith(keyword):\n",
    "                return 1\n",
    "            \n",
    "    for word in doc:\n",
    "        for keyword in business_keywords:\n",
    "            if word.startswith(keyword):\n",
    "                return 2\n",
    "            \n",
    "\n",
    "\n",
    "    \n",
    "    return -1\n",
    "\n",
    "exclusive_lemmas_rule = WeakRule(exec_module=exclusive_lemmas, label_maps={0:[0], 1:[1], 2:[2], 3:[2,3]})\n",
    "v1 = exclusive_lemmas_rule.execute(dev_instances)\n",
    "acc, p, r, cwacc = exclusive_lemmas_rule.eval(dev_labels, class_wise_acc=True)\n",
    "\n",
    "\n",
    "def df3(instance):\n",
    "    entity_doc = instance['title_ner']\n",
    "#     print(entity_doc)\n",
    "    if 'PERSON' in  entity_doc and 'GPE' in entity_doc:\n",
    "        return 1\n",
    "    return -1\n",
    "\n",
    "person_gpe_title_rule = WeakRule(name='p+gpe_title', exec_module=df3, label_maps={0:[2, 3], 1:[0, 1]})\n",
    "\n",
    "def df4(instance):\n",
    "    entity_doc = instance['sen_ner']\n",
    "#     print(entity_doc)\n",
    "    if 'PERSON' in  entity_doc and 'EVENT' in entity_doc:\n",
    "        return 1\n",
    "    return -1\n",
    "\n",
    "person_event_sen_rule = WeakRule(name='person+event_sen', exec_module=df4, label_maps={0:[2,3], 1:[0,1]})\n",
    "\n",
    "\n",
    "v1 = person_event_sen_rule.execute(dev_instances)\n",
    "acc, p, r, cwacc = person_event_sen_rule.eval(dev_labels, class_wise_acc=True)\n",
    "print(acc, p, r)\n",
    "print(cwacc)\n",
    "\n",
    "def df5(instance):\n",
    "    entity_doc = instance['title_ner']\n",
    "    if  'PRODUCT' in entity_doc:\n",
    "        return 1\n",
    "    return -1\n",
    "\n",
    "sen_prod_t_rule = WeakRule(exec_module=df5, label_maps={0:[0,1], 1:[2,3]})\n",
    "\n",
    "v1 = sen_prod_t_rule.execute(dev_instances)\n",
    "acc, p, r, cwacc = sen_prod_t_rule.eval(dev_labels, class_wise_acc=True)\n",
    "print(acc, p, r)\n",
    "print(cwacc)\n",
    "\n",
    "\n",
    "\n",
    "test_patt = 'minister|chairman'\n",
    "dpw2 = BinaryRERules(name='dpw2',\n",
    "                     re_pattern=test_patt, \n",
    "                                 preproc=lambda inst:inst['sen_lemma'].lower(), \n",
    "                                 label_maps={0:[1,3], 1:[0,2]}, unipolar=True)\n",
    "v5 = dpw2.execute(dev_instances)\n",
    "\n",
    "acc, p, r, cwacc = dpw2.eval(dev_labels, class_wise_acc=True)\n",
    "print(acc, p, r)\n",
    "print(cwacc)\n",
    "\n",
    "\n",
    "intn = 'internet'\n",
    "\n",
    "intnr = BinaryRERules(name='tech',re_pattern=intn, \n",
    "                                 preproc=lambda inst:inst['sen_lemma'].lower(), \n",
    "                                 label_maps={0:[1,2], 1:[0,3]}, unipolar=True)\n",
    "v5 = intnr.execute(dev_instances)\n",
    "\n",
    "acc, p, r, cwacc = intnr.eval(dev_labels, class_wise_acc=True)\n",
    "print(acc, p, r)\n",
    "print(cwacc)"
   ]
  },
  {
   "cell_type": "code",
   "execution_count": 5,
   "metadata": {},
   "outputs": [
    {
     "name": "stdout",
     "output_type": "stream",
     "text": [
      "{0: [0, 2, 3], 1: [1]}\n",
      "{0: [1, 3], 1: [0, 2]}\n",
      "{0: [1, 2], 1: [0, 3]}\n",
      "{0: [1, 2, 3], 1: [0]}\n",
      "{0: [0, 2, 3], 1: [1]}\n",
      "{0: [0], 1: [1], 2: [2], 3: [2, 3]}\n",
      "{0: [2, 3], 1: [0, 1]}\n",
      "{0: [0, 1, 3], 1: [2]}\n",
      "{0: [0, 1, 2], 1: [3]}\n",
      "{0: [2, 3], 1: [0, 1]}\n",
      "{0: [0, 1], 1: [2, 3]}\n"
     ]
    }
   ],
   "source": [
    "from nplm.plf import executor, evaluator\n",
    "\n",
    "plfs = [\n",
    "    gpe_event_title,\n",
    "    dpw2,\n",
    "    intnr,\n",
    "    loc_title_rule,\n",
    "    sp0,\n",
    "    exclusive_lemmas_rule,\n",
    "    person_gpe_title_rule,\n",
    "    bexclusive_lemmas_rule,\n",
    "    techr,\n",
    "    person_event_sen_rule,\n",
    "    sen_prod_t_rule,\n",
    "]\n",
    "\n",
    "votes, fid2clusters = executor(plfs, train_instances, one_indexed=False)\n",
    "# Filter out instances with no votes\n",
    "votes, _, train_idx = votes_filter(votes, return_idx=True)"
   ]
  },
  {
   "cell_type": "code",
   "execution_count": 6,
   "metadata": {},
   "outputs": [
    {
     "data": {
      "image/png": "[encoded data removed]",
      "text/plain": [
       "<Figure size 432x288 with 2 Axes>"
      ]
     },
     "metadata": {
      "needs_background": "light"
     },
     "output_type": "display_data"
    },
    {
     "data": {
      "image/png": "[encoded data removed]",
      "text/plain": [
       "<Figure size 432x288 with 2 Axes>"
      ]
     },
     "metadata": {
      "needs_background": "light"
     },
     "output_type": "display_data"
    }
   ],
   "source": [
    "plot_overlap_conflict(votes, fid2clusters)"
   ]
  },
  {
   "cell_type": "code",
   "execution_count": 7,
   "metadata": {},
   "outputs": [
    {
     "name": "stderr",
     "output_type": "stream",
     "text": [
      "epoch   1:  12%|█▎        | 1/8 [00:00<00:01,  5.80it/s, Train Loss: =9.12]"
     ]
    },
    {
     "name": "stdout",
     "output_type": "stream",
     "text": [
      "Setup:  0.04872012138366699\n"
     ]
    },
    {
     "name": "stderr",
     "output_type": "stream",
     "text": [
      "epoch   1: 100%|██████████| 8/8 [00:01<00:00,  6.54it/s, Epoch Loss: =8.94]\n",
      "epoch   2: 100%|██████████| 8/8 [00:01<00:00,  6.63it/s, Epoch Loss: =8.53]\n",
      "epoch   3: 100%|██████████| 8/8 [00:01<00:00,  6.60it/s, Epoch Loss: =8.15]\n",
      "epoch   4: 100%|██████████| 8/8 [00:01<00:00,  6.63it/s, Epoch Loss: =7.8] \n",
      "epoch   5: 100%|██████████| 8/8 [00:01<00:00,  6.55it/s, Epoch Loss: =7.48]"
     ]
    },
    {
     "name": "stdout",
     "output_type": "stream",
     "text": [
      "Setup:  0.03786277770996094\n",
      "Parallel Estimation:  0.03423476219177246\n"
     ]
    },
    {
     "name": "stderr",
     "output_type": "stream",
     "text": [
      "\n"
     ]
    }
   ],
   "source": [
    "from nplm import PartialLabelModel\n",
    "\n",
    "lm_cfg={'lr': 0.01,\n",
    " 'epoch': 5,\n",
    " 'seed': 0,\n",
    " 'batch_size': 8192,\n",
    " 'momentum': 0.9,\n",
    " 'step_schedule': 'p',\n",
    " 'step_multiplier': 0.1}\n",
    "\n",
    "device = 'cuda:0' if torch.cuda.is_available() else 'cpu'\n",
    "labelmodel = PartialLabelModel(num_classes=4,\n",
    "                        fid2clusters=fid2clusters,\n",
    "                        opt_cfg=lm_cfg,\n",
    "                        device=device, verbose=True)\n",
    "\n",
    "labelmodel.optimize(votes)\n",
    "label_estim = labelmodel.weak_label(votes)"
   ]
  },
  {
   "cell_type": "code",
   "execution_count": 8,
   "metadata": {},
   "outputs": [],
   "source": [
    "np.save('ag_news_soft_labels', {'sl': label_estim, 'idx': train_idx})"
   ]
  },
  {
   "cell_type": "code",
   "execution_count": 9,
   "metadata": {},
   "outputs": [
    {
     "name": "stdout",
     "output_type": "stream",
     "text": [
      "{0: [0, 2, 3], 1: [1]}\n",
      "{0: [1, 3], 1: [0, 2]}\n",
      "{0: [1, 2], 1: [0, 3]}\n",
      "{0: [1, 2, 3], 1: [0]}\n",
      "{0: [0, 2, 3], 1: [1]}\n",
      "{0: [0], 1: [1], 2: [2], 3: [2, 3]}\n",
      "{0: [2, 3], 1: [0, 1]}\n",
      "{0: [0, 1, 3], 1: [2]}\n",
      "{0: [0, 1, 2], 1: [3]}\n",
      "{0: [2, 3], 1: [0, 1]}\n",
      "{0: [0, 1], 1: [2, 3]}\n",
      "Name\tAcc\tP\tR\n",
      "gpe+event_title \t0.7163\t0.7163\t0.0329\n",
      "dpw2 \t0.9228\t0.9228\t0.0330\n",
      "tech \t0.8578\t0.8578\t0.0230\n",
      "loc_title \t0.4615\t0.4615\t0.0111\n",
      "sports_names \t0.9565\t0.9565\t0.0174\n",
      "Rule 5 \t0.9300\t0.9247\t0.3408\n",
      "p+gpe_title \t0.9331\t0.9331\t0.0349\n",
      "bus_lemma \t0.8532\t0.8532\t0.0367\n",
      "tech_terms \t0.9097\t0.9097\t0.0371\n",
      "person+event_sen \t0.9798\t0.9798\t0.0447\n",
      "Rule 10 \t0.8760\t0.8760\t0.0139\n",
      "Setup:  0.006567239761352539\n",
      "Parallel Estimation:  0.021131277084350586\n",
      "(0.5107894736842106, 0.7445193726708063, 0.5107894736842105, 0.49381807494357566)\n",
      "[0.51078947 0.66144737]\n"
     ]
    }
   ],
   "source": [
    "from eval import gen_stats, topk_results\n",
    "\n",
    "data_instance_test, data_label_test = get_inst(test)\n",
    "\n",
    "votes_test, _ = executor(plfs, data_instance_test, one_indexed=False)\n",
    "accs, ps, rs = evaluator(plfs, data_label_test, pprint=True)\n",
    "\n",
    "\n",
    "votes_test_filtered, label_filtered_test = votes_filter(votes_test, labels=data_label_test)\n",
    "\n",
    "\n",
    "wlabels_test = labelmodel.weak_label(votes_test)\n",
    "\n",
    "test_label_test = [elem+1 for elem in data_label_test]\n",
    "\n",
    "_, stats = gen_stats(wlabels_test, test_label_test)\n",
    "print(stats)\n",
    "print(topk_results(wlabels_test, test_label_test, [1,2]))\n"
   ]
  }
 ],
 "metadata": {
  "kernelspec": {
   "display_name": "Python 3",
   "language": "python",
   "name": "python3"
  },
  "language_info": {
   "codemirror_mode": {
    "name": "ipython",
    "version": 3
   },
   "file_extension": ".py",
   "mimetype": "text/x-python",
   "name": "python",
   "nbconvert_exporter": "python",
   "pygments_lexer": "ipython3",
   "version": "3.8.3"
  }
 },
 "nbformat": 4,
 "nbformat_minor": 4
}